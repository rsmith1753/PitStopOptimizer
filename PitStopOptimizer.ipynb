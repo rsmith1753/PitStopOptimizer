{
 "cells": [
  {
   "cell_type": "markdown",
   "metadata": {
    "id": "nnQDtoJasT0L"
   },
   "source": [
    "<h1>Pit Stop Optimizer</h1>\n",
    "<h2>Run last cell to install dependancies</h2>\n",
    "<h2>For running only the pretrained model, run all cells before the \"Train Model\" section, and skip to \"Final Model\"</h2>\n",
    "\n",
    "<h3>To train a new model, run until \"Save Model\". Saving will overrite the existing model. Other instructions are in cell comments</h3>"
   ]
  },
  {
   "cell_type": "markdown",
   "metadata": {
    "id": "uMW_l0jB0yQE"
   },
   "source": [
    "<h2>Imports</h2>"
   ]
  },
  {
   "cell_type": "code",
   "execution_count": 2,
   "metadata": {
    "_cell_guid": "b1076dfc-b9ad-4769-8c92-a6c4dae69d19",
    "_uuid": "8f2839f25d086af736a60e9eeb907d3b93b6e0e5",
    "id": "lJLts3k-MN17",
    "tags": []
   },
   "outputs": [],
   "source": [
    "import os\n",
    "import math\n",
    "from typing import List\n",
    "from IPython.utils import io\n",
    "\n",
    "import random\n",
    "import numpy as np\n",
    "import pandas as pd\n",
    "import matplotlib.pyplot as plt\n",
    "import seaborn as sns\n",
    "\n",
    "import torch, torch.nn as nn, torch.optim as optim, torch.nn.functional as F\n",
    "from torch.autograd import Variable\n",
    "import torch.autograd as autograd\n",
    "from sklearn.preprocessing import StandardScaler, MinMaxScaler\n",
    "from sklearn.metrics import accuracy_score\n",
    "from sklearn.cluster import KMeans\n",
    "from scipy.stats import linregress\n",
    "\n",
    "import ipywidgets as widgets\n",
    "from ipywidgets import interact, interactive, fixed, interact_manual\n",
    "from IPython.display import display, HTML\n",
    "\n",
    "### Disabled -- Not needed for project submission\n",
    "### Uncomment for training purposes and fetching new race data\n",
    "# import fastf1\n",
    "# import requests\n",
    "# import json\n",
    "###"
   ]
  },
  {
   "cell_type": "markdown",
   "metadata": {
    "id": "YMD8FGOZFTuh"
   },
   "source": [
    "<h2>Directories</h2>"
   ]
  },
  {
   "cell_type": "code",
   "execution_count": 3,
   "metadata": {
    "id": "b_JDp97mMtaZ"
   },
   "outputs": [],
   "source": [
    "race_dir = './Race Data/'\n",
    "val_dir = './Validation Data/'\n",
    "model_path = './Pit_Stop_Model.pt'\n",
    "\n",
    "### Disabled -- Not needed for project submission\n",
    "### Uncomment for training purposes and fetching new race data\n",
    "###     will not work when running off GitHub\n",
    "###     clone repository, create \"cache\" directory, and update <PATH> with cache location\n",
    "# fastf1.Cache.enable_cache('<PATH>') \n",
    "###\n"
   ]
  },
  {
   "cell_type": "markdown",
   "metadata": {
    "id": "5Fpb5AGXFJ9R"
   },
   "source": [
    "<h2>Utilities</h2>"
   ]
  },
  {
   "cell_type": "code",
   "execution_count": 4,
   "metadata": {
    "id": "cGcd0kc7FIjv"
   },
   "outputs": [],
   "source": [
    "# global scalers\n",
    "global mmt\n",
    "mmt = MinMaxScaler()\n",
    "global mmf\n",
    "mmf = MinMaxScaler()\n",
    "\n",
    "# maps for column conversions\n",
    "size = 10\n",
    "racehash = [{} for h in range(size)]\n",
    "pitmap = {}\n",
    "yearmap = {}\n",
    "drivermap = {}\n",
    "tiremap = {'SUPERSOFT':0,'SOFT':1,'MEDIUM':2,'HARD':3,'INTERMEDIATE':4,'WET':5,'UNKNOWN':6}\n",
    "\n",
    "# year range to gather data -- reduces lookup time\n",
    "years = [y for y in range(2012,2023)]"
   ]
  },
  {
   "cell_type": "markdown",
   "metadata": {
    "id": "AcY3ydJkE-DB"
   },
   "source": [
    "<h2>General Functions</h2>"
   ]
  },
  {
   "cell_type": "code",
   "execution_count": 5,
   "metadata": {
    "id": "KqP0L15mMN19",
    "tags": []
   },
   "outputs": [],
   "source": [
    "# pull data from csv files\n",
    "def get_lap_times():\n",
    "    lap_times = pd.read_csv(race_dir + 'lap_times.csv')\n",
    "    return lap_times\n",
    "def get_pit_stops():\n",
    "    pit_stops = pd.read_csv(race_dir + 'pit_stops.csv')\n",
    "    return pit_stops\n",
    "def get_drivers():\n",
    "    drivers = pd.read_csv(race_dir + 'drivers.csv')\n",
    "    return drivers\n",
    "def get_races():\n",
    "    races = pd.read_csv(race_dir + 'races.csv')\n",
    "    return races\n",
    "def get_circuits():\n",
    "    circuits = pd.read_csv(race_dir + 'circuits.csv')\n",
    "    return circuits\n",
    "\n",
    "# Add column for number of laps until next pit stop\n",
    "def get_laps_left(raceId: int, driverId: str, lap: int) -> int:\n",
    "    last_lap = lap_times['lap'][(lap_times['raceId'] == raceId) & (lap_times['driverId'] == driverId)].nlargest().iloc[0]\n",
    "    try:\n",
    "        stops = pitmap[raceId][driverId]\n",
    "        stops_num = len(stops.keys())\n",
    "        stop = 1\n",
    "        while lap > stops[stop] and stop < stops_num:\n",
    "            stop += 1\n",
    "        res = stops[stop] - lap\n",
    "        if res < 0:\n",
    "            res = last_lap - lap\n",
    "    except:\n",
    "        res = last_lap - lap\n",
    "    return res\n",
    "\n",
    "# add {raceId:{driverId:{pit stop num:lap num}}} to pitmap\n",
    "def map_pits():\n",
    "    for idx,row in pit_stops.iterrows():\n",
    "        raceId = row.raceId\n",
    "        driverId = row.driverId\n",
    "        stop = row.stop\n",
    "        lap = row.lap\n",
    "        if raceId not in pitmap.keys():\n",
    "            pitmap[raceId] = {}\n",
    "        if driverId not in pitmap[raceId].keys():\n",
    "            pitmap[raceId][driverId] = {}\n",
    "        pitmap[raceId][driverId][stop] = lap\n",
    "\n",
    "# add {raceId:circuitId} to race hash\n",
    "def get_hash_key(raceId):\n",
    "    return raceId % size\n",
    "def hash_raceId(raceId: int(),circuit: str()):\n",
    "    key = get_hash_key(raceId)\n",
    "    racehash[key].update({raceId:circuit})\n",
    "def get_circuit(raceId):\n",
    "    key = get_hash_key(raceId)\n",
    "    return racehash[key][raceId]\n",
    "\n",
    "# get driver number by driverId\n",
    "def map_driver(driverId: int) -> int:\n",
    "    return drivermap[driverId]\n",
    "\n",
    "### Data Transformation Functions\n",
    "def scale_data(data):\n",
    "    data = mmf.fit_transform(data.iloc[:, 4:-1])\n",
    "    data = Variable(torch.Tensor(data)) \n",
    "    data = torch.reshape(data, (data.shape[0], 1, data.shape[1])) \n",
    "    return data\n",
    "\n",
    "def unscale_predicted(predicted):\n",
    "    predicted = predicted.data.numpy() \n",
    "    predicted = mmt.inverse_transform(predicted)\n",
    "    predicted = np.round(predicted,0)\n",
    "    return predicted\n",
    "\n",
    "def format_target(target):\n",
    "    target = mmt.transform(target.iloc[:, -1:])\n",
    "    target = Variable(torch.Tensor(target))\n",
    "    target = target.data.numpy()\n",
    "    target = mmt.inverse_transform(target)\n",
    "    return target\n",
    "\n",
    "def get_projected_pit_lap(data):\n",
    "    data = data.ravel()\n",
    "    regress = linregress(np.linspace(0,len(data),len(data)),data)\n",
    "    slope = regress.slope\n",
    "    intercept = regress.intercept\n",
    "    x = (intercept * -1)/slope\n",
    "    return x.round()\n"
   ]
  },
  {
   "cell_type": "code",
   "execution_count": 6,
   "metadata": {
    "id": "8tNfq8d1MN2C",
    "tags": []
   },
   "outputs": [],
   "source": [
    "# pull data into dataframes\n",
    "lap_times = pd.DataFrame(get_lap_times())\n",
    "races = pd.DataFrame(get_races())\n",
    "circuits = pd.DataFrame(get_circuits())\n",
    "pit_stops = pd.DataFrame(get_pit_stops())\n",
    "drivers = pd.DataFrame(get_drivers())"
   ]
  },
  {
   "cell_type": "code",
   "execution_count": 7,
   "metadata": {
    "id": "EHAb1QYwNxxz"
   },
   "outputs": [],
   "source": [
    "# populate yearmap with raceId:year dicts\n",
    "for idx,row in races.iterrows():\n",
    "    yearmap.update({row.raceId:row.year})\n",
    "    \n",
    "# reduce 'races' size to year range\n",
    "races = races.loc[races['year'] >= min(years)]\n"
   ]
  },
  {
   "cell_type": "code",
   "execution_count": 8,
   "metadata": {
    "id": "eJovEDvzMN2E",
    "tags": []
   },
   "outputs": [],
   "source": [
    "# get circuitId for each race\n",
    "for idx,row in races.iterrows():\n",
    "    hash_raceId(row['raceId'],row['circuitId'])"
   ]
  },
  {
   "cell_type": "code",
   "execution_count": 9,
   "metadata": {
    "_kg_hide-output": true,
    "colab": {
     "base_uri": "https://localhost:8080/",
     "height": 442
    },
    "id": "-1e6fgaWMN2F",
    "outputId": "d9975a41-f2b1-4ed8-a12a-2c0cc0ec5e5c",
    "tags": []
   },
   "outputs": [
    {
     "data": {
      "text/html": [
       "<div>\n",
       "<style scoped>\n",
       "    .dataframe tbody tr th:only-of-type {\n",
       "        vertical-align: middle;\n",
       "    }\n",
       "\n",
       "    .dataframe tbody tr th {\n",
       "        vertical-align: top;\n",
       "    }\n",
       "\n",
       "    .dataframe thead th {\n",
       "        text-align: right;\n",
       "    }\n",
       "</style>\n",
       "<table border=\"1\" class=\"dataframe\">\n",
       "  <thead>\n",
       "    <tr style=\"text-align: right;\">\n",
       "      <th></th>\n",
       "      <th>raceId</th>\n",
       "      <th>driverId</th>\n",
       "      <th>lap</th>\n",
       "      <th>position</th>\n",
       "      <th>time</th>\n",
       "      <th>milliseconds</th>\n",
       "      <th>circuitId</th>\n",
       "      <th>year</th>\n",
       "    </tr>\n",
       "  </thead>\n",
       "  <tbody>\n",
       "    <tr>\n",
       "      <th>0</th>\n",
       "      <td>948</td>\n",
       "      <td>20</td>\n",
       "      <td>1</td>\n",
       "      <td>1</td>\n",
       "      <td>01:36.9</td>\n",
       "      <td>96916</td>\n",
       "      <td>1</td>\n",
       "      <td>2016</td>\n",
       "    </tr>\n",
       "    <tr>\n",
       "      <th>1</th>\n",
       "      <td>948</td>\n",
       "      <td>20</td>\n",
       "      <td>2</td>\n",
       "      <td>1</td>\n",
       "      <td>01:31.7</td>\n",
       "      <td>91664</td>\n",
       "      <td>1</td>\n",
       "      <td>2016</td>\n",
       "    </tr>\n",
       "    <tr>\n",
       "      <th>2</th>\n",
       "      <td>948</td>\n",
       "      <td>20</td>\n",
       "      <td>3</td>\n",
       "      <td>1</td>\n",
       "      <td>01:32.2</td>\n",
       "      <td>92167</td>\n",
       "      <td>1</td>\n",
       "      <td>2016</td>\n",
       "    </tr>\n",
       "    <tr>\n",
       "      <th>3</th>\n",
       "      <td>948</td>\n",
       "      <td>20</td>\n",
       "      <td>4</td>\n",
       "      <td>1</td>\n",
       "      <td>01:32.0</td>\n",
       "      <td>92014</td>\n",
       "      <td>1</td>\n",
       "      <td>2016</td>\n",
       "    </tr>\n",
       "    <tr>\n",
       "      <th>4</th>\n",
       "      <td>948</td>\n",
       "      <td>20</td>\n",
       "      <td>5</td>\n",
       "      <td>1</td>\n",
       "      <td>01:32.3</td>\n",
       "      <td>92273</td>\n",
       "      <td>1</td>\n",
       "      <td>2016</td>\n",
       "    </tr>\n",
       "    <tr>\n",
       "      <th>...</th>\n",
       "      <td>...</td>\n",
       "      <td>...</td>\n",
       "      <td>...</td>\n",
       "      <td>...</td>\n",
       "      <td>...</td>\n",
       "      <td>...</td>\n",
       "      <td>...</td>\n",
       "      <td>...</td>\n",
       "    </tr>\n",
       "    <tr>\n",
       "      <th>156303</th>\n",
       "      <td>1096</td>\n",
       "      <td>822</td>\n",
       "      <td>53</td>\n",
       "      <td>16</td>\n",
       "      <td>01:33.0</td>\n",
       "      <td>92998</td>\n",
       "      <td>24</td>\n",
       "      <td>2022</td>\n",
       "    </tr>\n",
       "    <tr>\n",
       "      <th>156304</th>\n",
       "      <td>1096</td>\n",
       "      <td>822</td>\n",
       "      <td>54</td>\n",
       "      <td>16</td>\n",
       "      <td>01:33.0</td>\n",
       "      <td>92995</td>\n",
       "      <td>24</td>\n",
       "      <td>2022</td>\n",
       "    </tr>\n",
       "    <tr>\n",
       "      <th>156305</th>\n",
       "      <td>1096</td>\n",
       "      <td>822</td>\n",
       "      <td>55</td>\n",
       "      <td>16</td>\n",
       "      <td>01:31.2</td>\n",
       "      <td>91236</td>\n",
       "      <td>24</td>\n",
       "      <td>2022</td>\n",
       "    </tr>\n",
       "    <tr>\n",
       "      <th>156306</th>\n",
       "      <td>1096</td>\n",
       "      <td>822</td>\n",
       "      <td>56</td>\n",
       "      <td>15</td>\n",
       "      <td>01:30.6</td>\n",
       "      <td>90566</td>\n",
       "      <td>24</td>\n",
       "      <td>2022</td>\n",
       "    </tr>\n",
       "    <tr>\n",
       "      <th>156307</th>\n",
       "      <td>1096</td>\n",
       "      <td>822</td>\n",
       "      <td>57</td>\n",
       "      <td>15</td>\n",
       "      <td>01:30.7</td>\n",
       "      <td>90743</td>\n",
       "      <td>24</td>\n",
       "      <td>2022</td>\n",
       "    </tr>\n",
       "  </tbody>\n",
       "</table>\n",
       "<p>156308 rows × 8 columns</p>\n",
       "</div>"
      ],
      "text/plain": [
       "        raceId  driverId  lap  position     time  milliseconds  circuitId  \\\n",
       "0          948        20    1         1  01:36.9         96916          1   \n",
       "1          948        20    2         1  01:31.7         91664          1   \n",
       "2          948        20    3         1  01:32.2         92167          1   \n",
       "3          948        20    4         1  01:32.0         92014          1   \n",
       "4          948        20    5         1  01:32.3         92273          1   \n",
       "...        ...       ...  ...       ...      ...           ...        ...   \n",
       "156303    1096       822   53        16  01:33.0         92998         24   \n",
       "156304    1096       822   54        16  01:33.0         92995         24   \n",
       "156305    1096       822   55        16  01:31.2         91236         24   \n",
       "156306    1096       822   56        15  01:30.6         90566         24   \n",
       "156307    1096       822   57        15  01:30.7         90743         24   \n",
       "\n",
       "        year  \n",
       "0       2016  \n",
       "1       2016  \n",
       "2       2016  \n",
       "3       2016  \n",
       "4       2016  \n",
       "...      ...  \n",
       "156303  2022  \n",
       "156304  2022  \n",
       "156305  2022  \n",
       "156306  2022  \n",
       "156307  2022  \n",
       "\n",
       "[156308 rows x 8 columns]"
      ]
     },
     "execution_count": 9,
     "metadata": {},
     "output_type": "execute_result"
    }
   ],
   "source": [
    "# add circuitId to lap_times, keep rows for races in year range\n",
    "lap_times['circuitId'] = lap_times['raceId'].map(lambda r: get_circuit(int(r)))\n",
    "lap_times['year'] = lap_times['raceId'].map(yearmap)\n",
    "lap_times = lap_times.loc[lap_times['year'] >= min(years)]\n",
    "lap_times"
   ]
  },
  {
   "cell_type": "code",
   "execution_count": 10,
   "metadata": {
    "id": "ys21ReJwHBGU"
   },
   "outputs": [],
   "source": [
    "# set target race and driver\n",
    "circuit = 'Silverstone'\n",
    "year = 2022\n",
    "driverId = 1"
   ]
  },
  {
   "cell_type": "code",
   "execution_count": 11,
   "metadata": {
    "id": "kHGEaSYBHBGV"
   },
   "outputs": [],
   "source": [
    "# get circuitId from circuit name\n",
    "circuitId = circuits.loc[circuits['circuitRef'] == circuit.lower()]\n",
    "circuitId = circuitId['circuitId'].values[0]"
   ]
  },
  {
   "cell_type": "code",
   "execution_count": 12,
   "metadata": {
    "id": "IRVLxHVhHBGV"
   },
   "outputs": [],
   "source": [
    "# get pit stop laps for target race & driver\n",
    "pit_stops.loc[(pit_stops['raceId'] == circuitId) & (pit_stops['driverId'] == driverId)]\n",
    "pit_stops['year'] = pit_stops['raceId'].map(yearmap)\n",
    "pit_stops = pit_stops.loc[pit_stops['year']>=min(years)]"
   ]
  },
  {
   "cell_type": "code",
   "execution_count": 13,
   "metadata": {
    "id": "PoR1gscjHBGW"
   },
   "outputs": [],
   "source": [
    "# call to populate pitmap\n",
    "map_pits()"
   ]
  },
  {
   "cell_type": "markdown",
   "metadata": {
    "id": "V_krbqxY0yQe"
   },
   "source": [
    "<h3>Next cell requires cache access. Only run if fetching new data and cache directory exists</h3>"
   ]
  },
  {
   "cell_type": "code",
   "execution_count": 14,
   "metadata": {
    "id": "cXdmnDlRHBGX"
   },
   "outputs": [],
   "source": [
    "## DO NOT RUN WITHOUT CACHE DIRECTORY AND CACHE ENABLED\n",
    "\n",
    "# # query Ergast DB for target race data\n",
    "# race = fastf1.get_session(year, circuit.lower(), 5)\n",
    "# race.load()\n",
    "\n",
    "# # convert lap data to pandas DF and save as csv for persistance\n",
    "# df = pd.DataFrame(race.laps)\n",
    "# df.to_csv(f'{race_dir}{circuit}_{year}_Laps.csv')\n",
    "# ######\n"
   ]
  },
  {
   "cell_type": "code",
   "execution_count": 15,
   "metadata": {
    "id": "qi03Jw0E0yQg"
   },
   "outputs": [],
   "source": [
    "# get saved Ergast data. If not found, enable fastf1 cache and run cell above\n",
    "race = pd.read_csv(f'{race_dir}{circuit}_{year}_Laps.csv')\n",
    "\n",
    "# convert LapNumber column to integers\n",
    "race.LapNumber = race.LapNumber.astype(int)"
   ]
  },
  {
   "cell_type": "code",
   "execution_count": 16,
   "metadata": {
    "id": "PnMkZwDiHBGY"
   },
   "outputs": [
    {
     "name": "stderr",
     "output_type": "stream",
     "text": [
      "/var/folders/gt/zr44j_q13h51pxlwmh9f0rgw0000gn/T/ipykernel_73982/4217261406.py:5: SettingWithCopyWarning: \n",
      "A value is trying to be set on a copy of a slice from a DataFrame.\n",
      "Try using .loc[row_indexer,col_indexer] = value instead\n",
      "\n",
      "See the caveats in the documentation: https://pandas.pydata.org/pandas-docs/stable/user_guide/indexing.html#returning-a-view-versus-a-copy\n",
      "  data['laps_to_pit'] = list(map(get_laps_left, data['raceId'], data['driverId'], data['lap']))\n",
      "/var/folders/gt/zr44j_q13h51pxlwmh9f0rgw0000gn/T/ipykernel_73982/4217261406.py:6: SettingWithCopyWarning: \n",
      "A value is trying to be set on a copy of a slice from a DataFrame.\n",
      "Try using .loc[row_indexer,col_indexer] = value instead\n",
      "\n",
      "See the caveats in the documentation: https://pandas.pydata.org/pandas-docs/stable/user_guide/indexing.html#returning-a-view-versus-a-copy\n",
      "  data['total_laps'] = max(data['lap'])\n"
     ]
    }
   ],
   "source": [
    "# Isolate target race from lap_times\n",
    "data = lap_times.loc[(lap_times['circuitId'] == circuitId) & (lap_times['driverId'] == driverId) & (lap_times['year'] == year)]\n",
    "\n",
    "# Add columns for laps left to pit, and constant total laps in race\n",
    "data['laps_to_pit'] = list(map(get_laps_left, data['raceId'], data['driverId'], data['lap']))\n",
    "data['total_laps'] = max(data['lap'])"
   ]
  },
  {
   "cell_type": "code",
   "execution_count": 17,
   "metadata": {
    "id": "j4kg8PpYHBGZ"
   },
   "outputs": [],
   "source": [
    "# data.head(10)"
   ]
  },
  {
   "cell_type": "code",
   "execution_count": 18,
   "metadata": {
    "colab": {
     "base_uri": "https://localhost:8080/"
    },
    "id": "AZ9F1xb_y5rq",
    "outputId": "f1abbd33-ec42-4eb8-ace4-197afd0fe5fc"
   },
   "outputs": [
    {
     "name": "stderr",
     "output_type": "stream",
     "text": [
      "/var/folders/gt/zr44j_q13h51pxlwmh9f0rgw0000gn/T/ipykernel_73982/1206915291.py:8: SettingWithCopyWarning: \n",
      "A value is trying to be set on a copy of a slice from a DataFrame.\n",
      "Try using .loc[row_indexer,col_indexer] = value instead\n",
      "\n",
      "See the caveats in the documentation: https://pandas.pydata.org/pandas-docs/stable/user_guide/indexing.html#returning-a-view-versus-a-copy\n",
      "  data['driverNum'] = data['driverId'].map(drivermap)\n"
     ]
    }
   ],
   "source": [
    "# populate drivermap\n",
    "for idx,row in drivers.iterrows():\n",
    "    id = row.driverId\n",
    "    num = row.number\n",
    "    drivermap.update({id:num})\n",
    "\n",
    "# add driver number column, map to driverId\n",
    "data['driverNum'] = data['driverId'].map(drivermap)  \n",
    "\n",
    "# get tire compound for each lap from Ergast data\n",
    "compounds = []\n",
    "for idx,row in data.iterrows():\n",
    "    dr = row.driverNum\n",
    "    lap = row.lap\n",
    "    srow = race.loc[(race['DriverNumber'] == dr) & (race['LapNumber'] == lap)]\n",
    "    compound = srow.Compound.values[0]\n",
    "    compounds.append(tiremap[compound])\n",
    "data = data.assign(compound=compounds)\n",
    "\n",
    "# prepare data for model\n",
    "data = data[['raceId','year','driverId','position','milliseconds','total_laps','lap','compound','laps_to_pit']]\n",
    "\n",
    "# first lap is grid 'Formation Lap'. not needed\n",
    "data = data.loc[data['lap'] > 3]\n",
    "\n",
    "#save data to csv for quick future reference\n",
    "data.to_csv(f'{val_dir}{circuit}_{year}_Test_Data.csv', index=False)\n"
   ]
  },
  {
   "cell_type": "code",
   "execution_count": 19,
   "metadata": {
    "colab": {
     "base_uri": "https://localhost:8080/",
     "height": 381
    },
    "id": "7c1De1lOHBGc",
    "outputId": "2dc642d2-5eb2-41fa-ca5f-b30290ba7620"
   },
   "outputs": [
    {
     "data": {
      "text/html": [
       "<div>\n",
       "<style scoped>\n",
       "    .dataframe tbody tr th:only-of-type {\n",
       "        vertical-align: middle;\n",
       "    }\n",
       "\n",
       "    .dataframe tbody tr th {\n",
       "        vertical-align: top;\n",
       "    }\n",
       "\n",
       "    .dataframe thead th {\n",
       "        text-align: right;\n",
       "    }\n",
       "</style>\n",
       "<table border=\"1\" class=\"dataframe\">\n",
       "  <thead>\n",
       "    <tr style=\"text-align: right;\">\n",
       "      <th></th>\n",
       "      <th>raceId</th>\n",
       "      <th>year</th>\n",
       "      <th>driverId</th>\n",
       "      <th>position</th>\n",
       "      <th>milliseconds</th>\n",
       "      <th>total_laps</th>\n",
       "      <th>lap</th>\n",
       "      <th>compound</th>\n",
       "      <th>laps_to_pit</th>\n",
       "    </tr>\n",
       "  </thead>\n",
       "  <tbody>\n",
       "    <tr>\n",
       "      <th>142610</th>\n",
       "      <td>1083</td>\n",
       "      <td>2022</td>\n",
       "      <td>1</td>\n",
       "      <td>6</td>\n",
       "      <td>95270</td>\n",
       "      <td>52</td>\n",
       "      <td>4</td>\n",
       "      <td>2</td>\n",
       "      <td>29</td>\n",
       "    </tr>\n",
       "    <tr>\n",
       "      <th>142611</th>\n",
       "      <td>1083</td>\n",
       "      <td>2022</td>\n",
       "      <td>1</td>\n",
       "      <td>6</td>\n",
       "      <td>95120</td>\n",
       "      <td>52</td>\n",
       "      <td>5</td>\n",
       "      <td>2</td>\n",
       "      <td>28</td>\n",
       "    </tr>\n",
       "    <tr>\n",
       "      <th>142612</th>\n",
       "      <td>1083</td>\n",
       "      <td>2022</td>\n",
       "      <td>1</td>\n",
       "      <td>4</td>\n",
       "      <td>93731</td>\n",
       "      <td>52</td>\n",
       "      <td>6</td>\n",
       "      <td>2</td>\n",
       "      <td>27</td>\n",
       "    </tr>\n",
       "    <tr>\n",
       "      <th>142613</th>\n",
       "      <td>1083</td>\n",
       "      <td>2022</td>\n",
       "      <td>1</td>\n",
       "      <td>4</td>\n",
       "      <td>93955</td>\n",
       "      <td>52</td>\n",
       "      <td>7</td>\n",
       "      <td>2</td>\n",
       "      <td>26</td>\n",
       "    </tr>\n",
       "    <tr>\n",
       "      <th>142614</th>\n",
       "      <td>1083</td>\n",
       "      <td>2022</td>\n",
       "      <td>1</td>\n",
       "      <td>4</td>\n",
       "      <td>93679</td>\n",
       "      <td>52</td>\n",
       "      <td>8</td>\n",
       "      <td>2</td>\n",
       "      <td>25</td>\n",
       "    </tr>\n",
       "    <tr>\n",
       "      <th>142615</th>\n",
       "      <td>1083</td>\n",
       "      <td>2022</td>\n",
       "      <td>1</td>\n",
       "      <td>4</td>\n",
       "      <td>93704</td>\n",
       "      <td>52</td>\n",
       "      <td>9</td>\n",
       "      <td>2</td>\n",
       "      <td>24</td>\n",
       "    </tr>\n",
       "    <tr>\n",
       "      <th>142616</th>\n",
       "      <td>1083</td>\n",
       "      <td>2022</td>\n",
       "      <td>1</td>\n",
       "      <td>4</td>\n",
       "      <td>93338</td>\n",
       "      <td>52</td>\n",
       "      <td>10</td>\n",
       "      <td>2</td>\n",
       "      <td>23</td>\n",
       "    </tr>\n",
       "    <tr>\n",
       "      <th>142617</th>\n",
       "      <td>1083</td>\n",
       "      <td>2022</td>\n",
       "      <td>1</td>\n",
       "      <td>4</td>\n",
       "      <td>93335</td>\n",
       "      <td>52</td>\n",
       "      <td>11</td>\n",
       "      <td>2</td>\n",
       "      <td>22</td>\n",
       "    </tr>\n",
       "    <tr>\n",
       "      <th>142618</th>\n",
       "      <td>1083</td>\n",
       "      <td>2022</td>\n",
       "      <td>1</td>\n",
       "      <td>4</td>\n",
       "      <td>94090</td>\n",
       "      <td>52</td>\n",
       "      <td>12</td>\n",
       "      <td>2</td>\n",
       "      <td>21</td>\n",
       "    </tr>\n",
       "    <tr>\n",
       "      <th>142619</th>\n",
       "      <td>1083</td>\n",
       "      <td>2022</td>\n",
       "      <td>1</td>\n",
       "      <td>3</td>\n",
       "      <td>93212</td>\n",
       "      <td>52</td>\n",
       "      <td>13</td>\n",
       "      <td>2</td>\n",
       "      <td>20</td>\n",
       "    </tr>\n",
       "  </tbody>\n",
       "</table>\n",
       "</div>"
      ],
      "text/plain": [
       "        raceId  year  driverId  position  milliseconds  total_laps  lap  \\\n",
       "142610    1083  2022         1         6         95270          52    4   \n",
       "142611    1083  2022         1         6         95120          52    5   \n",
       "142612    1083  2022         1         4         93731          52    6   \n",
       "142613    1083  2022         1         4         93955          52    7   \n",
       "142614    1083  2022         1         4         93679          52    8   \n",
       "142615    1083  2022         1         4         93704          52    9   \n",
       "142616    1083  2022         1         4         93338          52   10   \n",
       "142617    1083  2022         1         4         93335          52   11   \n",
       "142618    1083  2022         1         4         94090          52   12   \n",
       "142619    1083  2022         1         3         93212          52   13   \n",
       "\n",
       "        compound  laps_to_pit  \n",
       "142610         2           29  \n",
       "142611         2           28  \n",
       "142612         2           27  \n",
       "142613         2           26  \n",
       "142614         2           25  \n",
       "142615         2           24  \n",
       "142616         2           23  \n",
       "142617         2           22  \n",
       "142618         2           21  \n",
       "142619         2           20  "
      ]
     },
     "execution_count": 19,
     "metadata": {},
     "output_type": "execute_result"
    }
   ],
   "source": [
    "data.head(10)"
   ]
  },
  {
   "cell_type": "markdown",
   "metadata": {
    "id": "Cde-w-3k0yQk"
   },
   "source": [
    "<h2>Data Visualizations</h2>"
   ]
  },
  {
   "cell_type": "code",
   "execution_count": 20,
   "metadata": {
    "id": "JsAp24_O0yQl",
    "outputId": "e257e260-8de3-46fa-e1c9-d8645dd7543a"
   },
   "outputs": [
    {
     "data": {
      "text/plain": [
       "<seaborn.axisgrid.FacetGrid at 0x7fe5bd26f670>"
      ]
     },
     "execution_count": 20,
     "metadata": {},
     "output_type": "execute_result"
    },
    {
     "data": {
      "image/png": "[encoded data removed]",
      "text/plain": [
       "<Figure size 580.528x500 with 1 Axes>"
      ]
     },
     "metadata": {},
     "output_type": "display_data"
    }
   ],
   "source": [
    "# desc_method = sns.load_dataset(\"data\")\n",
    "sns.set_context(\"paper\")\n",
    "sns.relplot(data=data, x=\"laps_to_pit\", y=\"milliseconds\", hue=\"compound\", kind='line', palette=\"deep\")"
   ]
  },
  {
   "cell_type": "code",
   "execution_count": 21,
   "metadata": {
    "id": "79tBE56o0yQm",
    "outputId": "1bf184cf-7fc2-40bf-cadd-26ebc8462baa"
   },
   "outputs": [
    {
     "data": {
      "image/png": "[encoded data removed]",
      "text/plain": [
       "<Figure size 1000x1000 with 2 Axes>"
      ]
     },
     "metadata": {},
     "output_type": "display_data"
    }
   ],
   "source": [
    "fig = plt.figure(figsize=(10, 10))\n",
    "vis_data = data.iloc[:,4:]\n",
    "plt.matshow(vis_data.corr(),fignum=fig.number)\n",
    "plt.xticks(range(vis_data.select_dtypes(['number']).shape[1]), vis_data.select_dtypes(['number']).columns, fontsize=10, rotation=45)\n",
    "plt.yticks(range(vis_data.select_dtypes(['number']).shape[1]), vis_data.select_dtypes(['number']).columns, fontsize=10)\n",
    "cb = plt.colorbar()\n",
    "plt.show()"
   ]
  },
  {
   "cell_type": "code",
   "execution_count": 22,
   "metadata": {
    "id": "JP1UEofn0yQn",
    "outputId": "c5520341-58db-4ad1-f6a7-223f014e1598"
   },
   "outputs": [
    {
     "data": {
      "text/plain": [
       "array([[1.64452333e+05, 5.20000000e+01, 4.10000000e+01, 1.00000000e+00,\n",
       "        1.10000000e+01],\n",
       "       [9.32996739e+04, 5.20000000e+01, 2.71521739e+01, 1.91304348e+00,\n",
       "        1.07608696e+01]])"
      ]
     },
     "execution_count": 22,
     "metadata": {},
     "output_type": "execute_result"
    }
   ],
   "source": [
    "Kmean = KMeans(n_clusters=2)\n",
    "Kmean.fit(vis_data)\n",
    "clusters = Kmean.cluster_centers_\n",
    "clusters"
   ]
  },
  {
   "cell_type": "code",
   "execution_count": 23,
   "metadata": {
    "id": "v4CUVY010yQo",
    "outputId": "52e22fe8-79c4-426d-a840-d2190086e108"
   },
   "outputs": [
    {
     "data": {
      "image/png": "[encoded data removed]",
      "text/plain": [
       "<Figure size 640x480 with 1 Axes>"
      ]
     },
     "metadata": {},
     "output_type": "display_data"
    }
   ],
   "source": [
    "plt.scatter(vis_data, vis_data, s = 50)\n",
    "plt.scatter(clusters[0],clusters[0], s=200, c='g', marker='d')\n",
    "plt.scatter(clusters[1],clusters[1], s=150, c='r', marker='d')\n",
    "plt.show()"
   ]
  },
  {
   "cell_type": "code",
   "execution_count": 24,
   "metadata": {
    "id": "rbLdiKBy0yQq",
    "outputId": "01ec5bb6-9c73-4508-8fdb-ac59eefb24d3"
   },
   "outputs": [
    {
     "data": {
      "text/plain": [
       "array([1, 1, 1, 1, 1, 1, 1, 1, 1, 1, 1, 1, 1, 1, 1, 1, 1, 1, 1, 1, 1, 1,\n",
       "       1, 1, 1, 1, 1, 1, 1, 1, 1, 1, 1, 1, 1, 1, 0, 0, 0, 1, 1, 1, 1, 1,\n",
       "       1, 1, 1, 1, 1], dtype=int32)"
      ]
     },
     "execution_count": 24,
     "metadata": {},
     "output_type": "execute_result"
    }
   ],
   "source": [
    "Kmean.labels_"
   ]
  },
  {
   "cell_type": "markdown",
   "metadata": {
    "id": "3LqwBqvjyot1"
   },
   "source": [
    "# Scale Training Data"
   ]
  },
  {
   "cell_type": "code",
   "execution_count": 25,
   "metadata": {
    "id": "nBYktajFHBGe"
   },
   "outputs": [],
   "source": [
    "# Where to split train/test (percentage)\n",
    "perc = .8"
   ]
  },
  {
   "cell_type": "code",
   "execution_count": 26,
   "metadata": {
    "id": "5yVDLIMsMN2V",
    "tags": []
   },
   "outputs": [],
   "source": [
    "# Split features & target columns\n",
    "features = data.iloc[:,4:-1]\n",
    "target = data.iloc[:,-1:]\n",
    "\n",
    "# Scale features & target\n",
    "features_scaled = mmf.fit_transform(features)\n",
    "target_scaled = mmt.fit_transform(target) \n",
    "\n",
    "train_lim = math.ceil(features_scaled.shape[0] * perc)\n",
    "\n",
    "# Split train & test data rows\n",
    "features_train = features_scaled[:train_lim, :]\n",
    "features_test = features_scaled[train_lim:, :]\n",
    "target_train = target_scaled[:train_lim, :]\n",
    "target_test = target_scaled[train_lim:, :] \n",
    "\n",
    "# Final conversion and reshape for model training/testing\n",
    "features_train_tensors = Variable(torch.Tensor(features_train))\n",
    "features_test_tensors = Variable(torch.Tensor(features_test))\n",
    "\n",
    "target_train = Variable(torch.Tensor(target_train))\n",
    "target_test = Variable(torch.Tensor(target_test)) \n",
    "\n",
    "train_data = torch.reshape(features_train_tensors,   (features_train_tensors.shape[0], 1, features_train_tensors.shape[1]))\n",
    "test_data = torch.reshape(features_test_tensors,  (features_test_tensors.shape[0], 1, features_test_tensors.shape[1])) \n"
   ]
  },
  {
   "cell_type": "markdown",
   "metadata": {
    "id": "8KfkixKCy0Y3"
   },
   "source": [
    "# Model"
   ]
  },
  {
   "cell_type": "code",
   "execution_count": 27,
   "metadata": {
    "id": "FZJ0m0v3MN2Y",
    "tags": []
   },
   "outputs": [],
   "source": [
    "# Machine Learning Model (LSTM)\n",
    "class LSTM(nn.Module):\n",
    "    def __init__(self, num_classes=1, input_size=4, hidden_size=75, num_layers=1):\n",
    "        super(LSTM, self).__init__()\n",
    "        self.num_classes = num_classes\n",
    "        self.num_layers = num_layers\n",
    "        self.input_size = input_size\n",
    "        self.hidden_size = hidden_size\n",
    "\n",
    "        self.lstm = nn.LSTM(input_size=input_size, hidden_size=hidden_size, num_layers=num_layers, batch_first=True)\n",
    "        self.lin_1 =  nn.Linear(hidden_size, 300)\n",
    "        self.lin = nn.Linear(300, num_classes)\n",
    "        self.relu = nn.ReLU()\n",
    "    \n",
    "    def forward(self,x):\n",
    "        h_0 = Variable(torch.zeros(self.num_layers, x.size(0), self.hidden_size))\n",
    "        c_0 = Variable(torch.zeros(self.num_layers, x.size(0), self.hidden_size))\n",
    "        output, (hn, cn) = self.lstm(x, (h_0, c_0))\n",
    "        hn = hn.view(-1, self.hidden_size)\n",
    "        out = self.relu(hn)\n",
    "        out = self.lin_1(out)\n",
    "        out = self.relu(out)\n",
    "        out = self.lin(out)\n",
    "        return out\n",
    "\n",
    "    def save(self,model_path):\n",
    "        torch.save(model.state_dict(), model_path)\n",
    "\n",
    "    def load(self,model_path):\n",
    "        self.load_state_dict(torch.load(model_path))\n",
    "        self.eval()"
   ]
  },
  {
   "cell_type": "markdown",
   "metadata": {
    "id": "52b4tEqpy9H7"
   },
   "source": [
    "<h1>Train Model</h1>\n",
    "\n",
    "<h2>Model Training Variables</h2>"
   ]
  },
  {
   "cell_type": "code",
   "execution_count": null,
   "metadata": {
    "id": "SNG892EfYC5D"
   },
   "outputs": [],
   "source": [
    "# number of training loops, learning rate. \n",
    "#    Can be modified to adjust model accuracy\n",
    "num_epochs = 20000\n",
    "learning_rate = 0.0008\n",
    "\n",
    "# store losses for plotting\n",
    "train_losses = []\n",
    "\n",
    "# instatiate LSTM model\n",
    "lstm = LSTM()\n",
    "\n",
    "# main leaning algorithms\n",
    "criterion = torch.nn.MSELoss()\n",
    "optimizer = torch.optim.AdamW(lstm.parameters(), lr=learning_rate)"
   ]
  },
  {
   "cell_type": "markdown",
   "metadata": {
    "id": "ax9nMZohzDDn"
   },
   "source": [
    "<h2>Train Model</h2>"
   ]
  },
  {
   "cell_type": "code",
   "execution_count": null,
   "metadata": {
    "id": "N1ics3PLMN2Y",
    "tags": []
   },
   "outputs": [],
   "source": [
    "######################\n",
    "# Train Model\n",
    "for epoch in range(num_epochs):\n",
    "    # forward step\n",
    "    outputs = lstm.forward(train_data)\n",
    "    \n",
    "    # reset gradient\n",
    "    optimizer.zero_grad() \n",
    "    \n",
    "    #capture loss\n",
    "    loss = criterion(outputs, target_train)\n",
    "    \n",
    "    # backward step\n",
    "    loss.backward() \n",
    "    \n",
    "    # store losses for plotting\n",
    "    train_losses.append(loss.item())\n",
    "\n",
    "    # optimizer forward step\n",
    "    optimizer.step() \n",
    "    \n",
    "    if epoch % 1000 == 0:\n",
    "        print(\"Epoch: %d, loss: %1.8f\" % (epoch, loss.item()))\n",
    " #####################   \n"
   ]
  },
  {
   "cell_type": "markdown",
   "metadata": {
    "id": "U-gNyLyAzWaO"
   },
   "source": [
    "<h2>Plot Losses</h2>"
   ]
  },
  {
   "cell_type": "code",
   "execution_count": null,
   "metadata": {
    "colab": {
     "base_uri": "https://localhost:8080/",
     "height": 629
    },
    "id": "M6aXApA_zVgM",
    "outputId": "a554ec83-176b-4f95-f114-d1098a949b61"
   },
   "outputs": [
    {
     "data": {
      "text/plain": [
       "[<matplotlib.lines.Line2D at 0x7fc517ec1f50>]"
      ]
     },
     "execution_count": 56,
     "metadata": {},
     "output_type": "execute_result"
    },
    {
     "data": {
      "image/png": "[encoded data removed]",
      "text/plain": [
       "<Figure size 1000x400 with 1 Axes>"
      ]
     },
     "metadata": {},
     "output_type": "display_data"
    }
   ],
   "source": [
    "plt.figure(figsize=(10,4))\n",
    "plt.plot(np.linspace(1, num_epochs, num_epochs).astype(int),train_losses)"
   ]
  },
  {
   "cell_type": "markdown",
   "metadata": {
    "id": "6Ik-7kaYzZoZ"
   },
   "source": [
    "<h2>Plot prediction</h2>"
   ]
  },
  {
   "cell_type": "code",
   "execution_count": null,
   "metadata": {
    "colab": {
     "base_uri": "https://localhost:8080/",
     "height": 571
    },
    "id": "I80Xy9omMN2a",
    "outputId": "58cc6d07-2529-49c3-9c3b-8d52b8e8cd0a",
    "tags": []
   },
   "outputs": [
    {
     "data": {
      "image/png": "[encoded data removed]",
      "text/plain": [
       "<Figure size 1000x400 with 1 Axes>"
      ]
     },
     "metadata": {},
     "output_type": "display_data"
    }
   ],
   "source": [
    "# scale/unscale target and prediction for comparison\n",
    "test = scale_data(data)\n",
    "predicted = lstm(test)\n",
    "predicted = unscale_predicted(predicted)\n",
    "target = format_target(data)\n",
    "\n",
    "plt.figure(figsize=(10,4))\n",
    "plt.axvline(x=train_lim, c='r', linestyle='--')\n",
    "\n",
    "plt.plot(predicted, label='Predicted Data')\n",
    "plt.plot(target, label='Actual Data')\n",
    "plt.title('Time-Series Prediction')\n",
    "\n",
    "plt.legend()\n",
    "plt.show() "
   ]
  },
  {
   "cell_type": "markdown",
   "metadata": {
    "id": "lNN0ULeTCCsS"
   },
   "source": [
    "<h2>Model Accuracy</h2>"
   ]
  },
  {
   "cell_type": "code",
   "execution_count": null,
   "metadata": {
    "colab": {
     "base_uri": "https://localhost:8080/"
    },
    "id": "xhkmiExkgIMD",
    "outputId": "88069099-0a28-43c2-d9ec-53a21f6d7862"
   },
   "outputs": [
    {
     "name": "stdout",
     "output_type": "stream",
     "text": [
      "98.04%\n"
     ]
    }
   ],
   "source": [
    "# sklearn accuracy_score function\n",
    "accuracy = accuracy_score(predicted,target) * 100\n",
    "print('%.2f' % accuracy + '%')"
   ]
  },
  {
   "cell_type": "markdown",
   "metadata": {
    "id": "DOhIg86weQM-"
   },
   "source": [
    "<h1>Save Model</h1>"
   ]
  },
  {
   "cell_type": "code",
   "execution_count": null,
   "metadata": {
    "id": "li7HYbyncQny"
   },
   "outputs": [],
   "source": [
    "# save trained model\n",
    "best_model = lstm.state_dict()\n",
    "torch.save(best_model,model_path)"
   ]
  },
  {
   "cell_type": "markdown",
   "metadata": {
    "id": "Dlyb0L1d-rJA"
   },
   "source": [
    "<h1>Final Model</h1>"
   ]
  },
  {
   "cell_type": "markdown",
   "metadata": {
    "id": "li1nklJ2BqKq"
   },
   "source": [
    "<h2>Load Trained Model</h2>"
   ]
  },
  {
   "cell_type": "code",
   "execution_count": 28,
   "metadata": {
    "colab": {
     "base_uri": "https://localhost:8080/"
    },
    "id": "eAl-DZiDBm4Z",
    "outputId": "6b26d81b-b7ad-4346-d9e6-f7e75d950ce4"
   },
   "outputs": [
    {
     "data": {
      "text/plain": [
       "LSTM(\n",
       "  (lstm): LSTM(4, 75, batch_first=True)\n",
       "  (lin_1): Linear(in_features=75, out_features=300, bias=True)\n",
       "  (lin): Linear(in_features=300, out_features=1, bias=True)\n",
       "  (relu): ReLU()\n",
       ")"
      ]
     },
     "execution_count": 28,
     "metadata": {},
     "output_type": "execute_result"
    }
   ],
   "source": [
    "# load trained model for predictions\n",
    "model = LSTM()\n",
    "model.load(model_path)\n",
    "model.eval()"
   ]
  },
  {
   "cell_type": "code",
   "execution_count": 29,
   "metadata": {
    "id": "2AQze8lQn1UL"
   },
   "outputs": [],
   "source": [
    "# load simulation data\n",
    "def get_race_data():\n",
    "    return pd.read_csv(f'{val_dir}{circuit}_{year}_Test_Data.csv')"
   ]
  },
  {
   "cell_type": "markdown",
   "metadata": {
    "id": "4HBTpSmw0yQ6"
   },
   "source": [
    "<h1>Prediction Display</h1>\n",
    "<h2>Excecute cell, then move slider to select current lap and update prediction</h2>\n",
    "<h3>Accuracy is calculated by dividing the predicted lap by the target (actual) lap -- presented as a percentage</h3>"
   ]
  },
  {
   "cell_type": "code",
   "execution_count": null,
   "metadata": {
    "colab": {
     "base_uri": "https://localhost:8080/",
     "height": 425,
     "referenced_widgets": [
      "4e5d1068f73e4193bb0529544a53280c",
      "f3fa38f7c3bc4ce9bd2ab1539fae7d03",
      "def0a41a3de047fd871dc371d14d9d4c",
      "e41466d4934540f78e9656d53c2423fd",
      "c44ff46f4bbb4c7d91a049c6a070548a",
      "3c3902ec646b47db88a87115140e7ffe",
      "410bd9371ed44cdaa409c89fed57c14c",
      "55072f75324e48d68b59ca1e60377426"
     ]
    },
    "id": "1WeYl-M7qN7n",
    "outputId": "12a682a1-9372-4452-f80e-e155f1ab4000"
   },
   "outputs": [
    {
     "data": {
      "application/vnd.jupyter.widget-view+json": {
       "model_id": "08136a139f304e6788e8ca4170a43b4c",
       "version_major": 2,
       "version_minor": 0
      },
      "text/plain": [
       "interactive(children=(IntSlider(value=10, description='lap', max=49, min=5), Output()), _dom_classes=('widget-…"
      ]
     },
     "metadata": {},
     "output_type": "display_data"
    }
   ],
   "source": [
    "# Interactive widget\n",
    "%matplotlib inline\n",
    "@widgets.interact(lap=(5,len(get_race_data())))\n",
    "def func(lap=10):\n",
    "    lap=lap\n",
    "    race_data = get_race_data()\n",
    "    \n",
    "    # get data from laps 2 thru selected lap\n",
    "    race_data = race_data.loc[(race_data['lap'] > 3) & (race_data['lap'] <= lap)]\n",
    "    \n",
    "    # process data before feeding into model\n",
    "    predicted = scale_data(race_data)\n",
    "    \n",
    "    # run modal and unscale the results\n",
    "    predicted = model(predicted)\n",
    "    predicted = unscale_predicted(predicted)\n",
    "    predicted_pit = get_projected_pit_lap(predicted)\n",
    "\n",
    "    # format actual data to compare against prediction\n",
    "    target = format_target(race_data)\n",
    "    target_pit = get_projected_pit_lap(target)\n",
    "\n",
    "    print(f'Predicted Pit Stop Lap: {predicted_pit}\\nTarget Pit Stop Lap: {target_pit}')\n",
    "    print('Accuracy: ' + '%2.1f' %  (predicted_pit/target_pit * 100) + '%')\n",
    "\n",
    "    plt.figure(figsize=(10,5))\n",
    "    plt.plot(predicted, label = 'Predicted')\n",
    "    plt.plot(target, label = 'Actual')\n",
    "    plt.legend()"
   ]
  },
  {
   "cell_type": "markdown",
   "metadata": {
    "id": "VVAn7P9mCP0j"
   },
   "source": [
    "____"
   ]
  },
  {
   "cell_type": "markdown",
   "metadata": {
    "id": "0T1Hs6IACPpT"
   },
   "source": [
    "___"
   ]
  },
  {
   "cell_type": "markdown",
   "metadata": {
    "id": "hLcv5rht2Zb0"
   },
   "source": [
    "# Install Dependancies\n"
   ]
  },
  {
   "cell_type": "code",
   "execution_count": null,
   "metadata": {
    "id": "s2ip85gcnGL3",
    "outputId": "65380da7-9321-4310-ca78-f39b64a7d4a1"
   },
   "outputs": [],
   "source": [
    "\n",
    "### Only needed if fetching new race data\n",
    "# !pip install fastf1\n",
    "###\n",
    "\n",
    "!pip install matplotlib\n",
    "!pip install torchmetrics\n",
    "!pip install pandas\n",
    "!pip install numpy\n",
    "!pip install seaborn\n",
    "!pip install scikit-learn\n",
    "!pip install scipy\n",
    "!pip install ipywidgets"
   ]
  },
  {
   "cell_type": "code",
   "execution_count": null,
   "metadata": {
    "id": "IppBv8E4xs7z"
   },
   "outputs": [],
   "source": []
  }
 ],
 "metadata": {
  "colab": {
   "provenance": []
  },
  "kernelspec": {
   "display_name": "Python 3 (ipykernel)",
   "language": "python",
   "name": "python3"
  },
  "language_info": {
   "codemirror_mode": {
    "name": "ipython",
    "version": 3
   },
   "file_extension": ".py",
   "mimetype": "text/x-python",
   "name": "python",
   "nbconvert_exporter": "python",
   "pygments_lexer": "ipython3",
   "version": "3.9.13"
  },
  "widgets": {
   "application/vnd.jupyter.widget-state+json": {
    "3c3902ec646b47db88a87115140e7ffe": {
     "model_module": "@jupyter-widgets/controls",
     "model_module_version": "1.5.0",
     "model_name": "SliderStyleModel",
     "state": {
      "_model_module": "@jupyter-widgets/controls",
      "_model_module_version": "1.5.0",
      "_model_name": "SliderStyleModel",
      "_view_count": null,
      "_view_module": "@jupyter-widgets/base",
      "_view_module_version": "1.2.0",
      "_view_name": "StyleView",
      "description_width": "",
      "handle_color": null
     }
    },
    "410bd9371ed44cdaa409c89fed57c14c": {
     "model_module": "@jupyter-widgets/base",
     "model_module_version": "1.2.0",
     "model_name": "LayoutModel",
     "state": {
      "_model_module": "@jupyter-widgets/base",
      "_model_module_version": "1.2.0",
      "_model_name": "LayoutModel",
      "_view_count": null,
      "_view_module": "@jupyter-widgets/base",
      "_view_module_version": "1.2.0",
      "_view_name": "LayoutView",
      "align_content": null,
      "align_items": null,
      "align_self": null,
      "border": null,
      "bottom": null,
      "display": null,
      "flex": null,
      "flex_flow": null,
      "grid_area": null,
      "grid_auto_columns": null,
      "grid_auto_flow": null,
      "grid_auto_rows": null,
      "grid_column": null,
      "grid_gap": null,
      "grid_row": null,
      "grid_template_areas": null,
      "grid_template_columns": null,
      "grid_template_rows": null,
      "height": null,
      "justify_content": null,
      "justify_items": null,
      "left": null,
      "margin": null,
      "max_height": null,
      "max_width": null,
      "min_height": null,
      "min_width": null,
      "object_fit": null,
      "object_position": null,
      "order": null,
      "overflow": null,
      "overflow_x": null,
      "overflow_y": null,
      "padding": null,
      "right": null,
      "top": null,
      "visibility": null,
      "width": null
     }
    },
    "4e5d1068f73e4193bb0529544a53280c": {
     "model_module": "@jupyter-widgets/controls",
     "model_module_version": "1.5.0",
     "model_name": "VBoxModel",
     "state": {
      "_dom_classes": [
       "widget-interact"
      ],
      "_model_module": "@jupyter-widgets/controls",
      "_model_module_version": "1.5.0",
      "_model_name": "VBoxModel",
      "_view_count": null,
      "_view_module": "@jupyter-widgets/controls",
      "_view_module_version": "1.5.0",
      "_view_name": "VBoxView",
      "box_style": "",
      "children": [
       "IPY_MODEL_f3fa38f7c3bc4ce9bd2ab1539fae7d03",
       "IPY_MODEL_def0a41a3de047fd871dc371d14d9d4c"
      ],
      "layout": "IPY_MODEL_e41466d4934540f78e9656d53c2423fd"
     }
    },
    "c44ff46f4bbb4c7d91a049c6a070548a": {
     "model_module": "@jupyter-widgets/base",
     "model_module_version": "1.2.0",
     "model_name": "LayoutModel",
     "state": {
      "_model_module": "@jupyter-widgets/base",
      "_model_module_version": "1.2.0",
      "_model_name": "LayoutModel",
      "_view_count": null,
      "_view_module": "@jupyter-widgets/base",
      "_view_module_version": "1.2.0",
      "_view_name": "LayoutView",
      "align_content": null,
      "align_items": null,
      "align_self": null,
      "border": null,
      "bottom": null,
      "display": null,
      "flex": null,
      "flex_flow": null,
      "grid_area": null,
      "grid_auto_columns": null,
      "grid_auto_flow": null,
      "grid_auto_rows": null,
      "grid_column": null,
      "grid_gap": null,
      "grid_row": null,
      "grid_template_areas": null,
      "grid_template_columns": null,
      "grid_template_rows": null,
      "height": null,
      "justify_content": null,
      "justify_items": null,
      "left": null,
      "margin": null,
      "max_height": null,
      "max_width": null,
      "min_height": null,
      "min_width": null,
      "object_fit": null,
      "object_position": null,
      "order": null,
      "overflow": null,
      "overflow_x": null,
      "overflow_y": null,
      "padding": null,
      "right": null,
      "top": null,
      "visibility": null,
      "width": null
     }
    },
    "def0a41a3de047fd871dc371d14d9d4c": {
     "model_module": "@jupyter-widgets/output",
     "model_module_version": "1.0.0",
     "model_name": "OutputModel",
     "state": {
      "_dom_classes": [],
      "_model_module": "@jupyter-widgets/output",
      "_model_module_version": "1.0.0",
      "_model_name": "OutputModel",
      "_view_count": null,
      "_view_module": "@jupyter-widgets/output",
      "_view_module_version": "1.0.0",
      "_view_name": "OutputView",
      "layout": "IPY_MODEL_410bd9371ed44cdaa409c89fed57c14c",
      "msg_id": "",
      "outputs": [
       {
        "name": "stdout",
        "output_type": "stream",
        "text": [
         "Predicted Pit Stop Lap: 45.0\n",
         "Target Pit Stop Lap: 47.0\n",
         "Accuracy: 95.7%\n"
        ]
       },
       {
        "data": {
         "image/png": "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\n",
         "text/plain": "<Figure size 720x360 with 1 Axes>"
        },
        "metadata": {
         "needs_background": "light"
        },
        "output_type": "display_data"
       }
      ]
     }
    },
    "e41466d4934540f78e9656d53c2423fd": {
     "model_module": "@jupyter-widgets/base",
     "model_module_version": "1.2.0",
     "model_name": "LayoutModel",
     "state": {
      "_model_module": "@jupyter-widgets/base",
      "_model_module_version": "1.2.0",
      "_model_name": "LayoutModel",
      "_view_count": null,
      "_view_module": "@jupyter-widgets/base",
      "_view_module_version": "1.2.0",
      "_view_name": "LayoutView",
      "align_content": null,
      "align_items": null,
      "align_self": null,
      "border": null,
      "bottom": null,
      "display": null,
      "flex": null,
      "flex_flow": null,
      "grid_area": null,
      "grid_auto_columns": null,
      "grid_auto_flow": null,
      "grid_auto_rows": null,
      "grid_column": null,
      "grid_gap": null,
      "grid_row": null,
      "grid_template_areas": null,
      "grid_template_columns": null,
      "grid_template_rows": null,
      "height": null,
      "justify_content": null,
      "justify_items": null,
      "left": null,
      "margin": null,
      "max_height": null,
      "max_width": null,
      "min_height": null,
      "min_width": null,
      "object_fit": null,
      "object_position": null,
      "order": null,
      "overflow": null,
      "overflow_x": null,
      "overflow_y": null,
      "padding": null,
      "right": null,
      "top": null,
      "visibility": null,
      "width": null
     }
    },
    "f3fa38f7c3bc4ce9bd2ab1539fae7d03": {
     "model_module": "@jupyter-widgets/controls",
     "model_module_version": "1.5.0",
     "model_name": "IntSliderModel",
     "state": {
      "_dom_classes": [],
      "_model_module": "@jupyter-widgets/controls",
      "_model_module_version": "1.5.0",
      "_model_name": "IntSliderModel",
      "_view_count": null,
      "_view_module": "@jupyter-widgets/controls",
      "_view_module_version": "1.5.0",
      "_view_name": "IntSliderView",
      "continuous_update": true,
      "description": "lap",
      "description_tooltip": null,
      "disabled": false,
      "layout": "IPY_MODEL_c44ff46f4bbb4c7d91a049c6a070548a",
      "max": 51,
      "min": 3,
      "orientation": "horizontal",
      "readout": true,
      "readout_format": "d",
      "step": 1,
      "style": "IPY_MODEL_3c3902ec646b47db88a87115140e7ffe",
      "value": 51
     }
    }
   }
  }
 },
 "nbformat": 4,
 "nbformat_minor": 1
}
